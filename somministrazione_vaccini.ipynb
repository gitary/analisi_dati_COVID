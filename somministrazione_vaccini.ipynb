{
 "cells": [
  {
   "cell_type": "code",
   "execution_count": 1,
   "id": "ea845a4c",
   "metadata": {},
   "outputs": [],
   "source": [
    "import pandas as pd\n",
    "import numpy as np\n",
    "\n",
    "import matplotlib.pyplot as plt\n",
    "import seaborn as sns\n",
    "import pandas_bokeh"
   ]
  },
  {
   "cell_type": "code",
   "execution_count": 2,
   "id": "779f1440",
   "metadata": {},
   "outputs": [
    {
     "name": "stdout",
     "output_type": "stream",
     "text": [
      "Inizio download dataset da github\n",
      "...\n",
      "Fine download\n"
     ]
    }
   ],
   "source": [
    "#h =  !hostname\n",
    "h = 'test'\n",
    "\n",
    "if h[0] == 'cio-Aspire-VN7-593G':\n",
    "    folder = '../covid19-opendata-vaccini/'\n",
    "    df_anagrafica = pd.read_csv(folder +'dati/anagrafica-vaccini-summary-latest.csv')  # si aggiorna\n",
    "    #df_consegne = pd.read_csv(folder +'dati/consegne-vaccini-latest.csv') # si aggiorna\n",
    "    df_platea = pd.read_csv(folder +'dati/platea.csv')\n",
    "    df_platea_booster = pd.read_csv(folder +'dati/platea-dose-addizionale-booster.csv')\n",
    "    #df_punti_som_latest = pd.read_csv(folder +'dati/punti-somministrazione-latest.csv')\n",
    "    #df_punti_som_tipologia = pd.read_csv(folder +'dati/punti-somministrazione-tipologia.csv')\n",
    "    #df_guariti = pd.read_csv(folder +'dati/soggetti-guariti.csv')  # si aggiorna\n",
    "    df_somministrazione = pd.read_csv(folder +'dati/somministrazioni-vaccini-latest.csv', parse_dates = ['data_somministrazione'])  # si aggiorna\n",
    "    df_somministrazione_summary = pd.read_csv(folder +'dati/somministrazioni-vaccini-summary-latest.csv', parse_dates = ['data_somministrazione'])  # si aggiorna\n",
    "    #df_vaccini = pd.read_csv(folder +'dati/vaccini-summary-latest.csv')   # si aggiorna\n",
    "    print(\"Fine caricamento dataframe da dataset locali\")\n",
    "else:\n",
    "    print(\"Inizio download dataset da github\\n...\")    \n",
    "    url=\"https://raw.githubusercontent.com/italia/covid19-opendata-vaccini/master/dati/anagrafica-vaccini-summary-latest.csv\"\n",
    "    df_anagrafica = pd.read_csv(url) #, parse_dates = ['ultimo_aggiornamento']\n",
    "    url=\"https://raw.githubusercontent.com/italia/covid19-opendata-vaccini/master/dati/platea.csv\"\n",
    "    df_platea = pd.read_csv(url)\n",
    "    url=\"https://github.com/italia/covid19-opendata-vaccini/raw/master/dati/platea-dose-addizionale-booster.csv\"\n",
    "    df_platea_booster = pd.read_csv(url)\n",
    "    url=\"https://raw.githubusercontent.com/italia/covid19-opendata-vaccini/master/dati/somministrazioni-vaccini-latest.csv\"\n",
    "    df_somministrazione = pd.read_csv(url, parse_dates = ['data_somministrazione'])\n",
    "    url=\"https://raw.githubusercontent.com/italia/covid19-opendata-vaccini/master/dati/somministrazioni-vaccini-summary-latest.csv\"\n",
    "    df_somministrazione_summary = pd.read_csv(url, parse_dates = ['data_somministrazione'])\n",
    "    print(\"Fine download\")\n",
    "    "
   ]
  },
  {
   "cell_type": "code",
   "execution_count": 3,
   "id": "9983467c",
   "metadata": {},
   "outputs": [
    {
     "name": "stdout",
     "output_type": "stream",
     "text": [
      "analisi_esplorativa_COVID.ipynb\t\t analisi_platea_vs_popolazione.ipynb\r\n",
      "analisi_esplorativa_vaccini-Copy1.ipynb  README.md\r\n",
      "analisi_esplorativa_vaccini.ipynb\r\n"
     ]
    }
   ],
   "source": [
    "!ls"
   ]
  },
  {
   "cell_type": "markdown",
   "id": "75a0b296",
   "metadata": {},
   "source": [
    "# Elenco dataset"
   ]
  },
  {
   "cell_type": "markdown",
   "id": "3f1badcf",
   "metadata": {},
   "source": [
    "## Anagrafica df_anagrafica"
   ]
  },
  {
   "cell_type": "code",
   "execution_count": 4,
   "id": "3d4f60ba",
   "metadata": {},
   "outputs": [
    {
     "data": {
      "text/html": [
       "<div>\n",
       "<style scoped>\n",
       "    .dataframe tbody tr th:only-of-type {\n",
       "        vertical-align: middle;\n",
       "    }\n",
       "\n",
       "    .dataframe tbody tr th {\n",
       "        vertical-align: top;\n",
       "    }\n",
       "\n",
       "    .dataframe thead th {\n",
       "        text-align: right;\n",
       "    }\n",
       "</style>\n",
       "<table border=\"1\" class=\"dataframe\">\n",
       "  <thead>\n",
       "    <tr style=\"text-align: right;\">\n",
       "      <th></th>\n",
       "      <th>fascia_anagrafica</th>\n",
       "      <th>totale</th>\n",
       "      <th>sesso_maschile</th>\n",
       "      <th>sesso_femminile</th>\n",
       "      <th>prima_dose</th>\n",
       "      <th>seconda_dose</th>\n",
       "      <th>pregressa_infezione</th>\n",
       "      <th>dose_addizionale_booster</th>\n",
       "      <th>ultimo_aggiornamento</th>\n",
       "    </tr>\n",
       "  </thead>\n",
       "  <tbody>\n",
       "    <tr>\n",
       "      <th>0</th>\n",
       "      <td>05-11</td>\n",
       "      <td>710421</td>\n",
       "      <td>366575</td>\n",
       "      <td>343846</td>\n",
       "      <td>638054</td>\n",
       "      <td>71340</td>\n",
       "      <td>1027</td>\n",
       "      <td>0</td>\n",
       "      <td>2022-01-11</td>\n",
       "    </tr>\n",
       "    <tr>\n",
       "      <th>1</th>\n",
       "      <td>12-19</td>\n",
       "      <td>7451089</td>\n",
       "      <td>3827847</td>\n",
       "      <td>3623242</td>\n",
       "      <td>3681050</td>\n",
       "      <td>3314789</td>\n",
       "      <td>120845</td>\n",
       "      <td>334405</td>\n",
       "      <td>2022-01-11</td>\n",
       "    </tr>\n",
       "    <tr>\n",
       "      <th>2</th>\n",
       "      <td>20-29</td>\n",
       "      <td>11980203</td>\n",
       "      <td>6195040</td>\n",
       "      <td>5785163</td>\n",
       "      <td>5298385</td>\n",
       "      <td>4929971</td>\n",
       "      <td>211475</td>\n",
       "      <td>1540372</td>\n",
       "      <td>2022-01-11</td>\n",
       "    </tr>\n",
       "    <tr>\n",
       "      <th>3</th>\n",
       "      <td>30-39</td>\n",
       "      <td>13056899</td>\n",
       "      <td>6635943</td>\n",
       "      <td>6420956</td>\n",
       "      <td>5697602</td>\n",
       "      <td>5293948</td>\n",
       "      <td>212040</td>\n",
       "      <td>1853309</td>\n",
       "      <td>2022-01-11</td>\n",
       "    </tr>\n",
       "    <tr>\n",
       "      <th>4</th>\n",
       "      <td>40-49</td>\n",
       "      <td>17473740</td>\n",
       "      <td>8629358</td>\n",
       "      <td>8844382</td>\n",
       "      <td>7255604</td>\n",
       "      <td>6790826</td>\n",
       "      <td>288379</td>\n",
       "      <td>3138931</td>\n",
       "      <td>2022-01-11</td>\n",
       "    </tr>\n",
       "    <tr>\n",
       "      <th>5</th>\n",
       "      <td>50-59</td>\n",
       "      <td>21011674</td>\n",
       "      <td>10292268</td>\n",
       "      <td>10719406</td>\n",
       "      <td>8271102</td>\n",
       "      <td>7648930</td>\n",
       "      <td>341075</td>\n",
       "      <td>4750567</td>\n",
       "      <td>2022-01-11</td>\n",
       "    </tr>\n",
       "    <tr>\n",
       "      <th>6</th>\n",
       "      <td>60-69</td>\n",
       "      <td>17537271</td>\n",
       "      <td>8530336</td>\n",
       "      <td>9006935</td>\n",
       "      <td>6691706</td>\n",
       "      <td>6107419</td>\n",
       "      <td>232556</td>\n",
       "      <td>4505590</td>\n",
       "      <td>2022-01-11</td>\n",
       "    </tr>\n",
       "    <tr>\n",
       "      <th>7</th>\n",
       "      <td>70-79</td>\n",
       "      <td>14989262</td>\n",
       "      <td>7073056</td>\n",
       "      <td>7916206</td>\n",
       "      <td>5481864</td>\n",
       "      <td>5234707</td>\n",
       "      <td>158666</td>\n",
       "      <td>4114025</td>\n",
       "      <td>2022-01-11</td>\n",
       "    </tr>\n",
       "    <tr>\n",
       "      <th>8</th>\n",
       "      <td>80-89</td>\n",
       "      <td>9863976</td>\n",
       "      <td>4098389</td>\n",
       "      <td>5765587</td>\n",
       "      <td>3488405</td>\n",
       "      <td>3417926</td>\n",
       "      <td>76681</td>\n",
       "      <td>2880964</td>\n",
       "      <td>2022-01-11</td>\n",
       "    </tr>\n",
       "    <tr>\n",
       "      <th>9</th>\n",
       "      <td>90+</td>\n",
       "      <td>2181646</td>\n",
       "      <td>648488</td>\n",
       "      <td>1533158</td>\n",
       "      <td>805657</td>\n",
       "      <td>776342</td>\n",
       "      <td>19856</td>\n",
       "      <td>579791</td>\n",
       "      <td>2022-01-11</td>\n",
       "    </tr>\n",
       "  </tbody>\n",
       "</table>\n",
       "</div>"
      ],
      "text/plain": [
       "  fascia_anagrafica    totale  sesso_maschile  sesso_femminile  prima_dose  \\\n",
       "0             05-11    710421          366575           343846      638054   \n",
       "1             12-19   7451089         3827847          3623242     3681050   \n",
       "2             20-29  11980203         6195040          5785163     5298385   \n",
       "3             30-39  13056899         6635943          6420956     5697602   \n",
       "4             40-49  17473740         8629358          8844382     7255604   \n",
       "5             50-59  21011674        10292268         10719406     8271102   \n",
       "6             60-69  17537271         8530336          9006935     6691706   \n",
       "7             70-79  14989262         7073056          7916206     5481864   \n",
       "8             80-89   9863976         4098389          5765587     3488405   \n",
       "9               90+   2181646          648488          1533158      805657   \n",
       "\n",
       "   seconda_dose  pregressa_infezione  dose_addizionale_booster  \\\n",
       "0         71340                 1027                         0   \n",
       "1       3314789               120845                    334405   \n",
       "2       4929971               211475                   1540372   \n",
       "3       5293948               212040                   1853309   \n",
       "4       6790826               288379                   3138931   \n",
       "5       7648930               341075                   4750567   \n",
       "6       6107419               232556                   4505590   \n",
       "7       5234707               158666                   4114025   \n",
       "8       3417926                76681                   2880964   \n",
       "9        776342                19856                    579791   \n",
       "\n",
       "  ultimo_aggiornamento  \n",
       "0           2022-01-11  \n",
       "1           2022-01-11  \n",
       "2           2022-01-11  \n",
       "3           2022-01-11  \n",
       "4           2022-01-11  \n",
       "5           2022-01-11  \n",
       "6           2022-01-11  \n",
       "7           2022-01-11  \n",
       "8           2022-01-11  \n",
       "9           2022-01-11  "
      ]
     },
     "execution_count": 4,
     "metadata": {},
     "output_type": "execute_result"
    }
   ],
   "source": [
    "df_anagrafica"
   ]
  },
  {
   "cell_type": "code",
   "execution_count": 5,
   "id": "4815bfcc",
   "metadata": {},
   "outputs": [
    {
     "data": {
      "text/plain": [
       "(10, 9)"
      ]
     },
     "execution_count": 5,
     "metadata": {},
     "output_type": "execute_result"
    }
   ],
   "source": [
    "df_anagrafica.shape"
   ]
  },
  {
   "cell_type": "markdown",
   "id": "b80e8a25",
   "metadata": {},
   "source": [
    "## Platea df_platea"
   ]
  },
  {
   "cell_type": "code",
   "execution_count": 6,
   "id": "b1f3c5ef",
   "metadata": {},
   "outputs": [
    {
     "data": {
      "text/html": [
       "<div>\n",
       "<style scoped>\n",
       "    .dataframe tbody tr th:only-of-type {\n",
       "        vertical-align: middle;\n",
       "    }\n",
       "\n",
       "    .dataframe tbody tr th {\n",
       "        vertical-align: top;\n",
       "    }\n",
       "\n",
       "    .dataframe thead th {\n",
       "        text-align: right;\n",
       "    }\n",
       "</style>\n",
       "<table border=\"1\" class=\"dataframe\">\n",
       "  <thead>\n",
       "    <tr style=\"text-align: right;\">\n",
       "      <th></th>\n",
       "      <th>area</th>\n",
       "      <th>nome_area</th>\n",
       "      <th>fascia_anagrafica</th>\n",
       "      <th>totale_popolazione</th>\n",
       "    </tr>\n",
       "  </thead>\n",
       "  <tbody>\n",
       "    <tr>\n",
       "      <th>0</th>\n",
       "      <td>ABR</td>\n",
       "      <td>Abruzzo</td>\n",
       "      <td>05-11</td>\n",
       "      <td>76431</td>\n",
       "    </tr>\n",
       "    <tr>\n",
       "      <th>1</th>\n",
       "      <td>ABR</td>\n",
       "      <td>Abruzzo</td>\n",
       "      <td>12-19</td>\n",
       "      <td>94727</td>\n",
       "    </tr>\n",
       "    <tr>\n",
       "      <th>2</th>\n",
       "      <td>ABR</td>\n",
       "      <td>Abruzzo</td>\n",
       "      <td>20-29</td>\n",
       "      <td>125230</td>\n",
       "    </tr>\n",
       "    <tr>\n",
       "      <th>3</th>\n",
       "      <td>ABR</td>\n",
       "      <td>Abruzzo</td>\n",
       "      <td>30-39</td>\n",
       "      <td>146965</td>\n",
       "    </tr>\n",
       "    <tr>\n",
       "      <th>4</th>\n",
       "      <td>ABR</td>\n",
       "      <td>Abruzzo</td>\n",
       "      <td>40-49</td>\n",
       "      <td>187162</td>\n",
       "    </tr>\n",
       "    <tr>\n",
       "      <th>...</th>\n",
       "      <td>...</td>\n",
       "      <td>...</td>\n",
       "      <td>...</td>\n",
       "      <td>...</td>\n",
       "    </tr>\n",
       "    <tr>\n",
       "      <th>184</th>\n",
       "      <td>VEN</td>\n",
       "      <td>Veneto</td>\n",
       "      <td>40-49</td>\n",
       "      <td>715790</td>\n",
       "    </tr>\n",
       "    <tr>\n",
       "      <th>185</th>\n",
       "      <td>VEN</td>\n",
       "      <td>Veneto</td>\n",
       "      <td>50-59</td>\n",
       "      <td>806474</td>\n",
       "    </tr>\n",
       "    <tr>\n",
       "      <th>186</th>\n",
       "      <td>VEN</td>\n",
       "      <td>Veneto</td>\n",
       "      <td>60-69</td>\n",
       "      <td>610635</td>\n",
       "    </tr>\n",
       "    <tr>\n",
       "      <th>187</th>\n",
       "      <td>VEN</td>\n",
       "      <td>Veneto</td>\n",
       "      <td>70-79</td>\n",
       "      <td>494721</td>\n",
       "    </tr>\n",
       "    <tr>\n",
       "      <th>188</th>\n",
       "      <td>VEN</td>\n",
       "      <td>Veneto</td>\n",
       "      <td>80+</td>\n",
       "      <td>379519</td>\n",
       "    </tr>\n",
       "  </tbody>\n",
       "</table>\n",
       "<p>189 rows × 4 columns</p>\n",
       "</div>"
      ],
      "text/plain": [
       "    area nome_area fascia_anagrafica  totale_popolazione\n",
       "0    ABR   Abruzzo             05-11               76431\n",
       "1    ABR   Abruzzo             12-19               94727\n",
       "2    ABR   Abruzzo             20-29              125230\n",
       "3    ABR   Abruzzo             30-39              146965\n",
       "4    ABR   Abruzzo             40-49              187162\n",
       "..   ...       ...               ...                 ...\n",
       "184  VEN    Veneto             40-49              715790\n",
       "185  VEN    Veneto             50-59              806474\n",
       "186  VEN    Veneto             60-69              610635\n",
       "187  VEN    Veneto             70-79              494721\n",
       "188  VEN    Veneto               80+              379519\n",
       "\n",
       "[189 rows x 4 columns]"
      ]
     },
     "execution_count": 6,
     "metadata": {},
     "output_type": "execute_result"
    }
   ],
   "source": [
    "df_platea"
   ]
  },
  {
   "cell_type": "code",
   "execution_count": 10,
   "id": "1a58f54a",
   "metadata": {},
   "outputs": [
    {
     "data": {
      "text/html": [
       "<div>\n",
       "<style scoped>\n",
       "    .dataframe tbody tr th:only-of-type {\n",
       "        vertical-align: middle;\n",
       "    }\n",
       "\n",
       "    .dataframe tbody tr th {\n",
       "        vertical-align: top;\n",
       "    }\n",
       "\n",
       "    .dataframe thead th {\n",
       "        text-align: right;\n",
       "    }\n",
       "</style>\n",
       "<table border=\"1\" class=\"dataframe\">\n",
       "  <thead>\n",
       "    <tr style=\"text-align: right;\">\n",
       "      <th></th>\n",
       "      <th></th>\n",
       "      <th>totale_popolazione</th>\n",
       "    </tr>\n",
       "    <tr>\n",
       "      <th>area</th>\n",
       "      <th>nome_area</th>\n",
       "      <th></th>\n",
       "    </tr>\n",
       "  </thead>\n",
       "  <tbody>\n",
       "    <tr>\n",
       "      <th>ABR</th>\n",
       "      <th>Abruzzo</th>\n",
       "      <td>1265353</td>\n",
       "    </tr>\n",
       "    <tr>\n",
       "      <th>BAS</th>\n",
       "      <th>Basilicata</th>\n",
       "      <td>523836</td>\n",
       "    </tr>\n",
       "    <tr>\n",
       "      <th>CAL</th>\n",
       "      <th>Calabria</th>\n",
       "      <td>1803821</td>\n",
       "    </tr>\n",
       "    <tr>\n",
       "      <th>CAM</th>\n",
       "      <th>Campania</th>\n",
       "      <td>5481138</td>\n",
       "    </tr>\n",
       "    <tr>\n",
       "      <th>EMR</th>\n",
       "      <th>Emilia-Romagna</th>\n",
       "      <td>4266930</td>\n",
       "    </tr>\n",
       "    <tr>\n",
       "      <th>FVG</th>\n",
       "      <th>Friuli-Venezia Giulia</th>\n",
       "      <td>1154702</td>\n",
       "    </tr>\n",
       "    <tr>\n",
       "      <th>LAZ</th>\n",
       "      <th>Lazio</th>\n",
       "      <td>5522780</td>\n",
       "    </tr>\n",
       "    <tr>\n",
       "      <th>LIG</th>\n",
       "      <th>Liguria</th>\n",
       "      <td>1479768</td>\n",
       "    </tr>\n",
       "    <tr>\n",
       "      <th>LOM</th>\n",
       "      <th>Lombardia</th>\n",
       "      <td>9883969</td>\n",
       "    </tr>\n",
       "    <tr>\n",
       "      <th>MAR</th>\n",
       "      <th>Marche</th>\n",
       "      <td>1456240</td>\n",
       "    </tr>\n",
       "    <tr>\n",
       "      <th>MOL</th>\n",
       "      <th>Molise</th>\n",
       "      <td>288826</td>\n",
       "    </tr>\n",
       "    <tr>\n",
       "      <th>PAB</th>\n",
       "      <th>P.A. Bolzano</th>\n",
       "      <td>503896</td>\n",
       "    </tr>\n",
       "    <tr>\n",
       "      <th>PAT</th>\n",
       "      <th>P.A. Trento</th>\n",
       "      <td>517656</td>\n",
       "    </tr>\n",
       "    <tr>\n",
       "      <th>PIE</th>\n",
       "      <th>Piemonte</th>\n",
       "      <td>4175308</td>\n",
       "    </tr>\n",
       "    <tr>\n",
       "      <th>PUG</th>\n",
       "      <th>Puglia</th>\n",
       "      <td>3812497</td>\n",
       "    </tr>\n",
       "    <tr>\n",
       "      <th>SAR</th>\n",
       "      <th>Sardegna</th>\n",
       "      <td>1568672</td>\n",
       "    </tr>\n",
       "    <tr>\n",
       "      <th>SIC</th>\n",
       "      <th>Sicilia</th>\n",
       "      <td>4745731</td>\n",
       "    </tr>\n",
       "    <tr>\n",
       "      <th>TOS</th>\n",
       "      <th>Toscana</th>\n",
       "      <td>3575534</td>\n",
       "    </tr>\n",
       "    <tr>\n",
       "      <th>UMB</th>\n",
       "      <th>Umbria</th>\n",
       "      <td>840373</td>\n",
       "    </tr>\n",
       "    <tr>\n",
       "      <th>VDA</th>\n",
       "      <th>Valle d'Aosta</th>\n",
       "      <td>117843</td>\n",
       "    </tr>\n",
       "    <tr>\n",
       "      <th>VEN</th>\n",
       "      <th>Veneto</th>\n",
       "      <td>4681141</td>\n",
       "    </tr>\n",
       "  </tbody>\n",
       "</table>\n",
       "</div>"
      ],
      "text/plain": [
       "                            totale_popolazione\n",
       "area nome_area                                \n",
       "ABR  Abruzzo                           1265353\n",
       "BAS  Basilicata                         523836\n",
       "CAL  Calabria                          1803821\n",
       "CAM  Campania                          5481138\n",
       "EMR  Emilia-Romagna                    4266930\n",
       "FVG  Friuli-Venezia Giulia             1154702\n",
       "LAZ  Lazio                             5522780\n",
       "LIG  Liguria                           1479768\n",
       "LOM  Lombardia                         9883969\n",
       "MAR  Marche                            1456240\n",
       "MOL  Molise                             288826\n",
       "PAB  P.A. Bolzano                       503896\n",
       "PAT  P.A. Trento                        517656\n",
       "PIE  Piemonte                          4175308\n",
       "PUG  Puglia                            3812497\n",
       "SAR  Sardegna                          1568672\n",
       "SIC  Sicilia                           4745731\n",
       "TOS  Toscana                           3575534\n",
       "UMB  Umbria                             840373\n",
       "VDA  Valle d'Aosta                      117843\n",
       "VEN  Veneto                            4681141"
      ]
     },
     "execution_count": 10,
     "metadata": {},
     "output_type": "execute_result"
    }
   ],
   "source": [
    "df_platea.groupby(['area', 'nome_area']).sum()"
   ]
  },
  {
   "cell_type": "markdown",
   "id": "f2bb9ec5",
   "metadata": {},
   "source": [
    "## Platea booster df_platea_booster"
   ]
  },
  {
   "cell_type": "code",
   "execution_count": null,
   "id": "f755769d",
   "metadata": {},
   "outputs": [],
   "source": [
    "df_platea_booster"
   ]
  },
  {
   "cell_type": "markdown",
   "id": "d668f71d",
   "metadata": {},
   "source": [
    "## Somministrazione df_somministrazione"
   ]
  },
  {
   "cell_type": "code",
   "execution_count": null,
   "id": "3b553f43",
   "metadata": {},
   "outputs": [],
   "source": [
    "df_somministrazione"
   ]
  },
  {
   "cell_type": "code",
   "execution_count": null,
   "id": "5d1d2023",
   "metadata": {
    "scrolled": true
   },
   "outputs": [],
   "source": [
    "np.sort(df_somministrazione['data_somministrazione'].unique())"
   ]
  },
  {
   "cell_type": "code",
   "execution_count": null,
   "id": "b8053aab",
   "metadata": {},
   "outputs": [],
   "source": [
    "df_somministrazione.dtypes"
   ]
  },
  {
   "cell_type": "code",
   "execution_count": null,
   "id": "d5231cee",
   "metadata": {},
   "outputs": [],
   "source": [
    "df_somministrazione['data_somministrazione'].describe(datetime_is_numeric=True)"
   ]
  },
  {
   "cell_type": "code",
   "execution_count": null,
   "id": "1971835f",
   "metadata": {},
   "outputs": [],
   "source": [
    "np.sort(df_somministrazione_summary['data_somministrazione'].unique())"
   ]
  },
  {
   "cell_type": "code",
   "execution_count": null,
   "id": "c37752d4",
   "metadata": {},
   "outputs": [],
   "source": [
    "df_subset_somministrazione = df_somministrazione[df_somministrazione['data_somministrazione'] == '2021-12-15']\n",
    "df_subset_somministrazione.shape\n"
   ]
  },
  {
   "cell_type": "code",
   "execution_count": null,
   "id": "5dfe9b85",
   "metadata": {},
   "outputs": [],
   "source": [
    "df_subset_somministrazione"
   ]
  },
  {
   "cell_type": "code",
   "execution_count": null,
   "id": "2693af53",
   "metadata": {},
   "outputs": [],
   "source": [
    "df_somministrazione['fornitore'].unique()"
   ]
  },
  {
   "cell_type": "code",
   "execution_count": null,
   "id": "7073e6ab",
   "metadata": {},
   "outputs": [],
   "source": []
  },
  {
   "cell_type": "markdown",
   "id": "c8a94aa1",
   "metadata": {},
   "source": [
    "## Somministrazione sumary df_somministrazione_summary"
   ]
  },
  {
   "cell_type": "code",
   "execution_count": null,
   "id": "849b3753",
   "metadata": {},
   "outputs": [],
   "source": [
    "df_somministrazione_summary"
   ]
  },
  {
   "cell_type": "code",
   "execution_count": null,
   "id": "be05564d",
   "metadata": {},
   "outputs": [],
   "source": [
    "df_somministrazione['data_somministrazione'].describe(datetime_is_numeric=True)"
   ]
  },
  {
   "cell_type": "code",
   "execution_count": null,
   "id": "1b3bfc75",
   "metadata": {
    "scrolled": true
   },
   "outputs": [],
   "source": [
    "np.sort(df_somministrazione_summary['data_somministrazione'].unique())"
   ]
  },
  {
   "cell_type": "code",
   "execution_count": null,
   "id": "9f861f3b",
   "metadata": {},
   "outputs": [],
   "source": [
    "df_subset = df_somministrazione_summary[df_somministrazione_summary['data_somministrazione'] == '2021-12-15']\n",
    "df_subset.shape"
   ]
  },
  {
   "cell_type": "code",
   "execution_count": null,
   "id": "e96ee866",
   "metadata": {},
   "outputs": [],
   "source": [
    "#verifico la presenza di tutte le regioni:\n",
    "df_subset.sort_values('codice_regione_ISTAT')"
   ]
  },
  {
   "cell_type": "code",
   "execution_count": null,
   "id": "8efa274f",
   "metadata": {},
   "outputs": [],
   "source": [
    "np.sort(df_somministrazione_summary['codice_regione_ISTAT'].unique())"
   ]
  },
  {
   "cell_type": "markdown",
   "id": "fad71eac",
   "metadata": {},
   "source": [
    "### Colonne differenti tra df_somministrazione e df_somministrazione_summary"
   ]
  },
  {
   "cell_type": "code",
   "execution_count": null,
   "id": "1adc8c31",
   "metadata": {},
   "outputs": [],
   "source": [
    "set_somm = set(df_somministrazione.columns)"
   ]
  },
  {
   "cell_type": "code",
   "execution_count": null,
   "id": "1ac7da69",
   "metadata": {},
   "outputs": [],
   "source": [
    "set_somm_summary = set(df_somministrazione_summary.columns)"
   ]
  },
  {
   "cell_type": "code",
   "execution_count": null,
   "id": "3642ac21",
   "metadata": {},
   "outputs": [],
   "source": [
    "#differenza simmetrica\n",
    "set_somm ^ set_somm_summary"
   ]
  },
  {
   "cell_type": "code",
   "execution_count": null,
   "id": "950daf5e",
   "metadata": {},
   "outputs": [],
   "source": [
    "#Colonne presenti solo in df_somministrazione\n",
    "set_somm - set_somm_summary"
   ]
  },
  {
   "cell_type": "code",
   "execution_count": null,
   "id": "7503ad6e",
   "metadata": {},
   "outputs": [],
   "source": [
    "#Colonne presenti solo in df_somministrazione_summary\n",
    "set_somm_summary - set_somm"
   ]
  },
  {
   "cell_type": "markdown",
   "id": "f8c091b1",
   "metadata": {},
   "source": [
    "# Analisi"
   ]
  },
  {
   "cell_type": "markdown",
   "id": "ef73f6fa",
   "metadata": {},
   "source": [
    "### Da cancellare alla fine"
   ]
  },
  {
   "cell_type": "code",
   "execution_count": null,
   "id": "9101d8fa",
   "metadata": {},
   "outputs": [],
   "source": [
    "df_somministrazione_summary.head()"
   ]
  },
  {
   "cell_type": "code",
   "execution_count": null,
   "id": "a1fdad2d",
   "metadata": {},
   "outputs": [],
   "source": [
    "df_somministrazione_summary[df_somministrazione_summary['data_somministrazione'] == '2021-09-01'].groupby('data_somministrazione').sum()"
   ]
  },
  {
   "cell_type": "code",
   "execution_count": null,
   "id": "3c8823b1",
   "metadata": {},
   "outputs": [],
   "source": [
    "df_plot = df_somministrazione_summary[df_somministrazione_summary['data_somministrazione'] > '2021-12-01'].groupby('data_somministrazione').sum()"
   ]
  },
  {
   "cell_type": "code",
   "execution_count": null,
   "id": "213694c1",
   "metadata": {},
   "outputs": [],
   "source": [
    "df_plot"
   ]
  },
  {
   "cell_type": "markdown",
   "id": "c89fa6ab",
   "metadata": {},
   "source": [
    "## Tipi di plot"
   ]
  },
  {
   "cell_type": "markdown",
   "id": "cfebf9ed",
   "metadata": {},
   "source": [
    "### Seaborn"
   ]
  },
  {
   "cell_type": "code",
   "execution_count": null,
   "id": "29d09a88",
   "metadata": {},
   "outputs": [],
   "source": [
    "sns.set_style(\"darkgrid\")"
   ]
  },
  {
   "cell_type": "code",
   "execution_count": null,
   "id": "3c6f287d",
   "metadata": {},
   "outputs": [],
   "source": [
    "sns.lineplot(x=\"data_somministrazione\", y=\"totale\",\\\n",
    "             data=df_plot)\n",
    "plt.xticks(rotation=90)\n",
    "plt.title('Somministrazioni totali vaccino')\n",
    "plt.show()"
   ]
  },
  {
   "cell_type": "markdown",
   "id": "75f6fe41",
   "metadata": {},
   "source": [
    "### Plot pandas"
   ]
  },
  {
   "cell_type": "code",
   "execution_count": null,
   "id": "9c48ca27",
   "metadata": {},
   "outputs": [],
   "source": [
    "df_plot.plot(y=\"totale\", title = 'Somministrazioni totali vaccino')\n",
    "plt.show()"
   ]
  },
  {
   "cell_type": "markdown",
   "id": "52ed6d2b",
   "metadata": {},
   "source": [
    "### Pandas bokeh"
   ]
  },
  {
   "cell_type": "code",
   "execution_count": null,
   "id": "f4a0c926",
   "metadata": {},
   "outputs": [],
   "source": [
    "pandas_bokeh.output_notebook()\n",
    "\n",
    "g = df_plot.plot_bokeh(y=\"totale\", kind='line', vertical_xlabel = True)\n",
    "#g.xaxis.major_label_orientation = 78\n",
    "\n"
   ]
  },
  {
   "cell_type": "raw",
   "id": "5f597083",
   "metadata": {},
   "source": [
    "df_somministrazione_summary.loc[:,'data_somministrazione'] = pd.to_datetime(\\\n",
    "                            df_somministrazione_summary['data_somministrazione'], format='%Y-%m-%d')\n",
    "df_somministrazione_summary.info()"
   ]
  },
  {
   "cell_type": "code",
   "execution_count": null,
   "id": "de5466bc",
   "metadata": {},
   "outputs": [],
   "source": [
    "df_somministrazione_summary"
   ]
  },
  {
   "cell_type": "markdown",
   "id": "0d8a78a5",
   "metadata": {},
   "source": [
    "### FINE Da cancellare alla fine"
   ]
  },
  {
   "cell_type": "markdown",
   "id": "46137220",
   "metadata": {},
   "source": [
    "## Andamento vaccini totale - prima, seconda, booster"
   ]
  },
  {
   "cell_type": "code",
   "execution_count": null,
   "id": "0e12264f",
   "metadata": {},
   "outputs": [],
   "source": [
    "df_somministrazione_summary.sort_values('data_somministrazione').head(5)"
   ]
  },
  {
   "cell_type": "code",
   "execution_count": null,
   "id": "13ec423e",
   "metadata": {},
   "outputs": [],
   "source": [
    "#Raggruppo somministrazioDF che ha informazione divisa per regioni \n",
    "df_somm_grouped = df_somministrazione_summary.groupby('data_somministrazione').sum()"
   ]
  },
  {
   "cell_type": "code",
   "execution_count": null,
   "id": "1bc0b1a7",
   "metadata": {},
   "outputs": [],
   "source": [
    "df_somm_grouped"
   ]
  },
  {
   "cell_type": "code",
   "execution_count": null,
   "id": "643d779c",
   "metadata": {
    "scrolled": false
   },
   "outputs": [],
   "source": [
    "g = df_somm_grouped.plot_bokeh(y = [\\\n",
    "                           'prima_dose','seconda_dose', 'dose_addizionale_booster', 'pregressa_infezione'],\n",
    "                           vertical_xlabel = True, title=\"-----------\", figsize=(950, 500),\\\n",
    "                               legend=\"top_left\", stacked=True, kind='bar')#, logy=True)"
   ]
  },
  {
   "cell_type": "code",
   "execution_count": null,
   "id": "fee61b9a",
   "metadata": {
    "scrolled": false
   },
   "outputs": [],
   "source": [
    "g = df_somm_grouped.resample(rule='W').mean().plot_bokeh(y = [\\\n",
    "                           'prima_dose','seconda_dose', 'dose_addizionale_booster', 'pregressa_infezione'],\n",
    "                           vertical_xlabel = True, title=\"-----------\", figsize=(950, 500),\\\n",
    "                               legend=\"top_left\", stacked=True, kind='bar')#, logy=True)"
   ]
  },
  {
   "cell_type": "code",
   "execution_count": null,
   "id": "2260ecc5",
   "metadata": {},
   "outputs": [],
   "source": [
    "g = df_somm_grouped.plot_bokeh(y = ['prima_dose','seconda_dose', 'dose_addizionale_booster',\\\n",
    "                                    'pregressa_infezione', 'totale',],\n",
    "                           vertical_xlabel = True, title=\"-----------\", figsize=(950, 500),\\\n",
    "                               legend=\"top_left\")#, logy=True)"
   ]
  },
  {
   "cell_type": "code",
   "execution_count": null,
   "id": "51479631",
   "metadata": {
    "scrolled": false
   },
   "outputs": [],
   "source": [
    "g = df_somm_grouped.resample(rule='W').mean().plot_bokeh(y = ['prima_dose','seconda_dose',\\\n",
    "                                        'dose_addizionale_booster', 'pregressa_infezione', 'totale'],\n",
    "                           vertical_xlabel = True, title=\"-----------\", figsize=(950, 500),\n",
    "                                                 legend=\"top_left\")#, logy=True)"
   ]
  },
  {
   "cell_type": "code",
   "execution_count": null,
   "id": "fc9474a4",
   "metadata": {},
   "outputs": [],
   "source": [
    "#Verifica significato 'totale' vaccini\n",
    "df_check = df_somm_grouped.copy(deep = True)\n",
    "df_check.loc[:, 'check_totale'] = df_check['prima_dose'] + df_check['seconda_dose'] + df_check['dose_addizionale_booster'] + df_check['pregressa_infezione']\n",
    "df_check"
   ]
  },
  {
   "cell_type": "markdown",
   "id": "71b86f16",
   "metadata": {},
   "source": [
    "## Vaccini per fasce anagrafiche"
   ]
  },
  {
   "cell_type": "code",
   "execution_count": null,
   "id": "8be05ace",
   "metadata": {},
   "outputs": [],
   "source": [
    "df_somministrazione.info()"
   ]
  },
  {
   "cell_type": "code",
   "execution_count": null,
   "id": "403142fe",
   "metadata": {},
   "outputs": [],
   "source": [
    "df_somministrazione.tail()"
   ]
  },
  {
   "cell_type": "code",
   "execution_count": null,
   "id": "fb571b82",
   "metadata": {},
   "outputs": [],
   "source": [
    "# Faccio pivot per ottenere andamento somministrazioni per ciascuna fascia di età\n",
    "#faccio priva pivot intermedia per consentire di calcolare il totale dei vaccini\n",
    "df_pivot = pd.pivot_table(df_somministrazione, index = ['data_somministrazione', 'fascia_anagrafica'], aggfunc=np.sum)\n",
    "df_pivot"
   ]
  },
  {
   "cell_type": "code",
   "execution_count": null,
   "id": "7bd9c2d3",
   "metadata": {},
   "outputs": [],
   "source": [
    "df_pivot.loc[:, 'totale_vaccini'] = df_pivot['prima_dose'] + df_pivot['seconda_dose']\\\n",
    "                        + df_pivot['dose_addizionale_booster'] + df_pivot['pregressa_infezione']\n",
    "df_pivot.loc['2022-01-09', :]"
   ]
  },
  {
   "cell_type": "code",
   "execution_count": null,
   "id": "83b0a1ac",
   "metadata": {},
   "outputs": [],
   "source": [
    "df_1 = df_pivot.reset_index('fascia_anagrafica')\n",
    "df_pivot_2 = df_1.pivot(columns = 'fascia_anagrafica', values = 'totale_vaccini')\n",
    "df_pivot_2"
   ]
  },
  {
   "cell_type": "code",
   "execution_count": null,
   "id": "6e6559f9",
   "metadata": {},
   "outputs": [],
   "source": [
    "g = df_pivot_2.resample(rule='W').mean().plot_bokeh(vertical_xlabel = True,\\\n",
    "                        title=\"Fasce anagrafiche\", figsize=(950, 500), legend=\"top_left\")"
   ]
  },
  {
   "cell_type": "code",
   "execution_count": null,
   "id": "def383b8",
   "metadata": {},
   "outputs": [],
   "source": [
    "g = df_pivot_2.fillna(0).resample(rule='W').mean()\\\n",
    ".plot_bokeh(kind = 'bar', vertical_xlabel = True, title=\"Fasce angrafiche\",\\\n",
    "            figsize=(950, 500), stacked = True, legend=\"top_left\")"
   ]
  },
  {
   "cell_type": "code",
   "execution_count": null,
   "id": "559d4e54",
   "metadata": {},
   "outputs": [],
   "source": [
    "g = df_pivot_2.fillna(0)\\\n",
    ".plot_bokeh(kind = 'bar', vertical_xlabel = True, title=\"Fasce angrafiche\", figsize=(950, 500), stacked = True, legend=\"top_left\")"
   ]
  },
  {
   "cell_type": "markdown",
   "id": "fb3ad40a",
   "metadata": {},
   "source": [
    "## Percentuale vaccinati per fasce anagrafiche"
   ]
  },
  {
   "cell_type": "code",
   "execution_count": null,
   "id": "14e92582",
   "metadata": {},
   "outputs": [],
   "source": [
    "df_anagrafica"
   ]
  },
  {
   "cell_type": "code",
   "execution_count": null,
   "id": "21407d59",
   "metadata": {},
   "outputs": [],
   "source": [
    "df_platea_grouped = df_platea.groupby('fascia_anagrafica').sum()\n",
    "df_platea_grouped"
   ]
  },
  {
   "cell_type": "code",
   "execution_count": null,
   "id": "da9aa013",
   "metadata": {},
   "outputs": [],
   "source": [
    "#In anagrafica sono presenti le fasce '80-89' e '90+', mentre in platea vi è la fascia '80+'\n",
    "#sommo le 2 face in anagrafica per uniformare\n",
    "df_somma_righe = df_anagrafica.copy().set_index('fascia_anagrafica')\n",
    "df_anag_trans = df_somma_righe.transpose()\n",
    "df_anag_trans.loc[:, '80+'] = df_anag_trans['80-89'] + df_anag_trans['90+']\n",
    "#ripristtino la data correttamente: \n",
    "df_anag_trans.loc['ultimo_aggiornamento','80+'] = df_anag_trans.loc['ultimo_aggiornamento','80+']\\\n",
    "                                        [:len(df_anag_trans.loc['ultimo_aggiornamento','80+'])//2]\n",
    "df_anag_new = df_anag_trans.drop(columns=['80-89', '90+']).transpose()\n",
    "df_anag_new"
   ]
  },
  {
   "cell_type": "code",
   "execution_count": null,
   "id": "8ad59a3c",
   "metadata": {},
   "outputs": [],
   "source": [
    "df_fasce = pd.concat([df_anag_new, df_platea_grouped], axis = 1)\n",
    "df_fasce"
   ]
  },
  {
   "cell_type": "markdown",
   "id": "5ba4b1ca",
   "metadata": {},
   "source": [
    "# RIPRENDI DA QUI - inserisci anche platea booster"
   ]
  },
  {
   "cell_type": "code",
   "execution_count": null,
   "id": "607d68f5",
   "metadata": {},
   "outputs": [],
   "source": [
    "df_fasce.loc[:, 'percentuale_almeno_prima_dose'] = df_fasce['prima_dose'] / df_fasce['totale_popolazione']*100\n",
    "df_fasce.loc[:, 'percentuale_seconda_dose'] = df_fasce['seconda_dose'] / df_fasce['totale_popolazione']*100\n",
    "df_fasce.loc[:, 'percentuale_booster'] = df_fasce['dose_addizionale_booster'] / df_fasce['totale_popolazione']*100\n",
    "\n",
    "df_fasce"
   ]
  },
  {
   "cell_type": "code",
   "execution_count": null,
   "id": "4cdcef07",
   "metadata": {},
   "outputs": [],
   "source": [
    "def add_value_labels(ax, spacing=2, n_decimals = 1):\n",
    "    \"\"\"Add labels to the end of each bar in a bar chart.\n",
    "\n",
    "    Arguments:\n",
    "        ax (matplotlib.axes.Axes): The matplotlib object containing the axes\n",
    "            of the plot to annotate.\n",
    "        spacing (int): The distance between the labels and the bars.\n",
    "    \"\"\"\n",
    "\n",
    "    # For each bar: Place a label\n",
    "    for rect in ax.patches:\n",
    "        # Get X and Y placement of label from rect.\n",
    "        y_value = rect.get_height()\n",
    "        x_value = rect.get_x() + rect.get_width() / 2\n",
    "\n",
    "        # Number of points between bar and label. Change to your liking.\n",
    "        space = spacing\n",
    "        # Vertical alignment for positive values\n",
    "        va = 'bottom'\n",
    "\n",
    "        # If value of bar is negative: Place label below bar\n",
    "        if y_value < 0:\n",
    "            # Invert space to place label below\n",
    "            space *= -1\n",
    "            # Vertically align label at top\n",
    "            va = 'top'\n",
    "\n",
    "        # Use Y value as label and format number with one decimal place\n",
    "        f = \"{:.\"+str(n_decimals)+\"f}\"\n",
    "        label = f.format(y_value)\n",
    "\n",
    "        # Create annotation\n",
    "        ax.annotate(\n",
    "            label,                      # Use `label` as label\n",
    "            (x_value, y_value),         # Place label at end of the bar\n",
    "            xytext=(0, space),          # Vertically shift label by `space`\n",
    "            textcoords=\"offset points\", # Interpret `xytext` as offset in points\n",
    "            ha='center',                # Horizontally center label\n",
    "            va=va)                      # Vertically align label differently for\n",
    "                                        # positive and negative values.\n",
    "\n",
    "\n"
   ]
  },
  {
   "cell_type": "code",
   "execution_count": null,
   "id": "c341feda",
   "metadata": {
    "scrolled": true
   },
   "outputs": [],
   "source": [
    "#df_fasce.plot(kind = 'bar', y = 'percentuale_almeno_prima_dose')\n",
    "\n",
    "fig, ax = plt.subplots(figsize =(12, 8))  #figsize =(5, 5)\n",
    "df_fasce.plot(kind = 'bar', y = 'percentuale_almeno_prima_dose', ax = ax)\n",
    "add_value_labels(ax, spacing=2)"
   ]
  },
  {
   "cell_type": "code",
   "execution_count": null,
   "id": "d6845343",
   "metadata": {},
   "outputs": [],
   "source": [
    "#df_fasce.plot(kind = 'bar', y = 'percentuale_almeno_prima_dose')\n",
    "\n",
    "fig, ax = plt.subplots(figsize =(12, 8))  #figsize =(5, 5)\n",
    "df_fasce.plot(kind = 'bar', y = 'percentuale_almeno_prima_dose', ax = ax, color=\"tab:blue\")\n",
    "df_fasce.plot(kind = 'bar', y = 'percentuale_seconda_dose', ax = ax, color=\"tab:green\")\n",
    "df_fasce.plot(kind = 'bar', y = 'percentuale_booster', ax = ax, color=\"tab:orange\")\n",
    "add_value_labels(ax)\n"
   ]
  },
  {
   "cell_type": "code",
   "execution_count": null,
   "id": "55c5936c",
   "metadata": {},
   "outputs": [],
   "source": [
    "#df_fasce.plot(kind = 'bar', y = 'percentuale_almeno_prima_dose')\n",
    "\n",
    "fig, ax = plt.subplots(figsize =(12, 8))  #figsize =(5, 5)\n",
    "df_fasce.plot(kind = 'bar', y = ['percentuale_almeno_prima_dose','percentuale_seconda_dose','percentuale_booster'], ax = ax)#, color=\"tab:blue\")\n",
    "#df_fasce.plot(kind = 'bar', y = 'percentuale_seconda_dose', ax = ax, color=\"tab:green\")\n",
    "#df_fasce.plot(kind = 'bar', y = 'percentuale_booster', ax = ax, color=\"tab:orange\")\n",
    "add_value_labels(ax)\n"
   ]
  },
  {
   "cell_type": "code",
   "execution_count": null,
   "id": "99da863c",
   "metadata": {},
   "outputs": [],
   "source": [
    "#df_fasce.plot(kind = 'bar', y = 'percentuale_almeno_prima_dose')\n",
    "\n",
    "fig, ax = plt.subplots(figsize =(12, 8))  #figsize =(5, 5)\n",
    "df_fasce.plot(kind = 'bar', y = 'percentuale_seconda_dose', ax = ax)\n",
    "add_value_labels(ax, spacing=2)\n"
   ]
  },
  {
   "cell_type": "code",
   "execution_count": null,
   "id": "a81d589d",
   "metadata": {},
   "outputs": [],
   "source": [
    "fig, ax = plt.subplots(figsize =(12, 8)) \n",
    "df_fasce.plot(kind = 'bar', y = 'totale_popolazione', ax = ax, color = \"tab:grey\")\n",
    "df_fasce.plot(kind = 'bar', y = 'prima_dose', ax = ax, color=\"tab:blue\")\n",
    "df_fasce.plot(kind = 'bar', y = 'seconda_dose', ax = ax, color=\"tab:green\" )\n",
    "df_fasce.plot(kind = 'bar', y = 'dose_addizionale_booster', ax = ax, color=\"tab:orange\")\n",
    "add_value_labels(ax, spacing=2, n_decimals = 0 )\n"
   ]
  },
  {
   "cell_type": "markdown",
   "id": "eae23a3b",
   "metadata": {},
   "source": [
    "## Percentuale vaccinati sul totale"
   ]
  },
  {
   "cell_type": "code",
   "execution_count": null,
   "id": "df6eb83c",
   "metadata": {},
   "outputs": [],
   "source": [
    "df_fasce_trans = df_fasce.transpose()\n",
    "df_fasce_trans"
   ]
  },
  {
   "cell_type": "code",
   "execution_count": null,
   "id": "069496bc",
   "metadata": {},
   "outputs": [],
   "source": [
    "col = ''\n",
    "for ele in df_fasce_trans.columns:\n",
    "    col += '+'+ele\n",
    "col\n",
    "    "
   ]
  },
  {
   "cell_type": "code",
   "execution_count": null,
   "id": "64dbb13c",
   "metadata": {},
   "outputs": [],
   "source": [
    "df_fasce_trans"
   ]
  },
  {
   "cell_type": "code",
   "execution_count": null,
   "id": "c689f438",
   "metadata": {},
   "outputs": [],
   "source": [
    "df_fasce_trans.loc[:, 'tot_all']  = df_fasce_trans.sum(axis=1)\n",
    "df_fasce_trans.loc[:, 'tot_>12'] = df_fasce_trans.drop(columns = ['05-11', 'tot_all']).sum(axis=1)\n",
    "df_fasce_trans"
   ]
  },
  {
   "cell_type": "code",
   "execution_count": null,
   "id": "75bdbc0b",
   "metadata": {},
   "outputs": [],
   "source": [
    "def percentuale_vacc(colonna): \n",
    "    return df_fasce_trans.loc['prima_dose', colonna]/ df_fasce_trans.loc['totale_popolazione', colonna]*100"
   ]
  },
  {
   "cell_type": "code",
   "execution_count": null,
   "id": "2ce00d95",
   "metadata": {},
   "outputs": [],
   "source": [
    "percentuale_vacc('tot_all')"
   ]
  },
  {
   "cell_type": "code",
   "execution_count": null,
   "id": "4d5fb881",
   "metadata": {},
   "outputs": [],
   "source": [
    "percentuale_vacc('tot_>12')\n"
   ]
  },
  {
   "cell_type": "code",
   "execution_count": null,
   "id": "41b998f6",
   "metadata": {},
   "outputs": [],
   "source": []
  },
  {
   "cell_type": "code",
   "execution_count": null,
   "id": "60f09815",
   "metadata": {},
   "outputs": [],
   "source": []
  },
  {
   "cell_type": "code",
   "execution_count": null,
   "id": "7da7e9c0",
   "metadata": {},
   "outputs": [],
   "source": []
  },
  {
   "cell_type": "code",
   "execution_count": null,
   "id": "6dae00ef",
   "metadata": {},
   "outputs": [],
   "source": [
    "df_f= pd.DataFrame({'a': [1, 2, 3, 4, 5, 6],\n",
    "                   'b': [1, 1, 2, 3, 5, 8],\n",
    "                   'c': [1, 4, 9, 16, 25, 36]})"
   ]
  },
  {
   "cell_type": "code",
   "execution_count": null,
   "id": "c0d86a7f",
   "metadata": {},
   "outputs": [],
   "source": [
    "df_f"
   ]
  },
  {
   "cell_type": "code",
   "execution_count": null,
   "id": "6cc4ca56",
   "metadata": {},
   "outputs": [],
   "source": [
    "df_f.loc[:,'c_diff'] = df_f['c'].diff()"
   ]
  },
  {
   "cell_type": "code",
   "execution_count": null,
   "id": "ed0f94de",
   "metadata": {},
   "outputs": [],
   "source": [
    "df_f"
   ]
  },
  {
   "cell_type": "markdown",
   "id": "f7656173",
   "metadata": {},
   "source": [
    "## Platea booster"
   ]
  },
  {
   "cell_type": "code",
   "execution_count": null,
   "id": "eb03f359",
   "metadata": {},
   "outputs": [],
   "source": [
    "df_platea_booster_grouped = df_platea_booster.groupby('categoria_prevalente').sum()\n",
    "tot_pop_booster = df_platea_booster_grouped['totale_popolazione'].sum()"
   ]
  },
  {
   "cell_type": "code",
   "execution_count": null,
   "id": "1a15647d",
   "metadata": {},
   "outputs": [],
   "source": [
    "df_platea_grouped['totale_popolazione']"
   ]
  },
  {
   "cell_type": "code",
   "execution_count": null,
   "id": "c9b0d45f",
   "metadata": {},
   "outputs": [],
   "source": [
    "tot_platea = df_platea_grouped['totale_popolazione'].sum()\n",
    "tot_platea"
   ]
  },
  {
   "cell_type": "code",
   "execution_count": null,
   "id": "b58286eb",
   "metadata": {},
   "outputs": [],
   "source": [
    "tot_platea12 = df_platea_grouped[df_platea_grouped.index != '05-11']['totale_popolazione'].sum()\n",
    "tot_platea12"
   ]
  },
  {
   "cell_type": "code",
   "execution_count": null,
   "id": "de2c2e1c",
   "metadata": {},
   "outputs": [],
   "source": [
    "tot_vaccini_booster = df_somm_grouped['dose_addizionale_booster'].sum()\n",
    "tot_vaccini_booster"
   ]
  },
  {
   "cell_type": "markdown",
   "id": "152fdf0a",
   "metadata": {},
   "source": [
    "### Percentuale vaccini booster somministrati"
   ]
  },
  {
   "cell_type": "code",
   "execution_count": null,
   "id": "fcfbf8de",
   "metadata": {},
   "outputs": [],
   "source": [
    "# Percentuale vaccini booster eseguiti su popolazione booster (che ha ricevuto la seconda dose da almeno 5 mesi ?)\n",
    "tot_vaccini_booster/tot_pop_booster*100"
   ]
  },
  {
   "cell_type": "code",
   "execution_count": null,
   "id": "df2d44a3",
   "metadata": {},
   "outputs": [],
   "source": [
    "tot_vaccini_booster/tot_platea*100"
   ]
  },
  {
   "cell_type": "code",
   "execution_count": null,
   "id": "449efc31",
   "metadata": {},
   "outputs": [],
   "source": [
    "tot_vaccini_booster/tot_platea12*100"
   ]
  },
  {
   "cell_type": "code",
   "execution_count": null,
   "id": "f987b0bb",
   "metadata": {},
   "outputs": [],
   "source": [
    "tot_seconda_dose = df_anagrafica['seconda_dose'].sum()\n",
    "tot_seconda_dose"
   ]
  },
  {
   "cell_type": "code",
   "execution_count": null,
   "id": "cc5e720f",
   "metadata": {},
   "outputs": [],
   "source": [
    "tot_vaccini_booster/tot_seconda_dose*100"
   ]
  },
  {
   "cell_type": "code",
   "execution_count": null,
   "id": "b9000cec",
   "metadata": {},
   "outputs": [],
   "source": []
  }
 ],
 "metadata": {
  "kernelspec": {
   "display_name": "Python 3 (ipykernel)",
   "language": "python",
   "name": "python3"
  },
  "language_info": {
   "codemirror_mode": {
    "name": "ipython",
    "version": 3
   },
   "file_extension": ".py",
   "mimetype": "text/x-python",
   "name": "python",
   "nbconvert_exporter": "python",
   "pygments_lexer": "ipython3",
   "version": "3.7.10"
  },
  "toc": {
   "base_numbering": 1,
   "nav_menu": {},
   "number_sections": true,
   "sideBar": true,
   "skip_h1_title": false,
   "title_cell": "Table of Contents",
   "title_sidebar": "Contents",
   "toc_cell": false,
   "toc_position": {
    "height": "calc(100% - 180px)",
    "left": "10px",
    "top": "150px",
    "width": "384px"
   },
   "toc_section_display": true,
   "toc_window_display": true
  }
 },
 "nbformat": 4,
 "nbformat_minor": 5
}
